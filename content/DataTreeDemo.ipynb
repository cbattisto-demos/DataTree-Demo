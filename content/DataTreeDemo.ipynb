{
 "cells": [
  {
   "cell_type": "markdown",
   "metadata": {},
   "source": [
    "# Efficient Hierarchical Data Access Patterns Using Xarray DataTrees \n",
    "\n",
    "### Authors:\n",
    "- Chris Battisto\n",
    "- Eni Awowale\n",
    "\n",
    "### Overview:\n",
    "This notebook will demonstrate how to use `xarray.DataTree` with a dataset derived from the [_GPM IMERG Final Precipitation L3 Half Hourly 0.1 degree x 0.1 degree V07 (GPM_3IMERGHH_07)_](https://disc.gsfc.nasa.gov/datasets/GPM_3IMERGHH_07/summary) and [_MERRA-2 tavg1_2d_flx_Nx: 2d,1-Hourly,Time-Averaged,Single-Level,Assimilation,Surface Flux Diagnostics V5.12.4 (M2T1NXFLX)_](https://disc.gsfc.nasa.gov/datasets/M2T1NXFLX/summary) products."
   ]
  },
  {
   "cell_type": "markdown",
   "metadata": {},
   "source": [
    "### Import Libraries"
   ]
  },
  {
   "cell_type": "code",
   "execution_count": null,
   "metadata": {},
   "outputs": [],
   "source": [
    "import xarray as xr\n",
    "import netCDF4 as nc4\n",
    "import numpy as np"
   ]
  },
  {
   "cell_type": "markdown",
   "metadata": {},
   "source": [
    "### Method A: Spatially Average Using DataTrees\n",
    "\n",
    "First, open the dataset using `open_datatree`:"
   ]
  },
  {
   "cell_type": "code",
   "execution_count": null,
   "metadata": {},
   "outputs": [],
   "source": [
    "src = xr.open_datatree('precipitation.nc4')\n",
    "print(src)"
   ]
  },
  {
   "cell_type": "markdown",
   "metadata": {},
   "source": [
    "Then, we can perform a spatial average without having to recursively loop through each group!"
   ]
  },
  {
   "cell_type": "code",
   "execution_count": null,
   "metadata": {},
   "outputs": [],
   "source": [
    "dt_mean = src.mean(dim='time')\n",
    "print(dt_mean)"
   ]
  },
  {
   "cell_type": "markdown",
   "metadata": {},
   "source": [
    "This results in a plot of the 10-hour average precipitation rate of Hurricane Ida:"
   ]
  },
  {
   "cell_type": "code",
   "execution_count": null,
   "metadata": {},
   "outputs": [],
   "source": [
    "dt_mean['observed/precipitation'].plot()"
   ]
  },
  {
   "cell_type": "markdown",
   "metadata": {},
   "source": [
    "### Method B (the old way): Spatially Average Using `netcdf4-python`\n",
    "\n",
    "First, open the original data file, then create a new file that will contain the subsetted arrays"
   ]
  },
  {
   "cell_type": "code",
   "execution_count": null,
   "metadata": {},
   "outputs": [],
   "source": [
    "# Open original file\n",
    "src = nc4.Dataset('precipitation.nc4', 'r')\n",
    "\n",
    "# Create new file\n",
    "dst = nc4.Dataset('precipitation_mean.nc4', 'w', format='NETCDF4')\n",
    "\n",
    "print(dst)"
   ]
  },
  {
   "cell_type": "markdown",
   "metadata": {},
   "source": [
    "Since the dataset is grouped/subgrouped, we will need to create functions that recursively traverse each subgroup, extract all their attributes and metadata, and return the new, subsetted dataset containing all of the inherited attributes. This also requires knowing which dimensions are time (unlimited units) or not, requiring added logic to each function. Then, we can perform a spatial average."
   ]
  },
  {
   "cell_type": "code",
   "execution_count": null,
   "metadata": {},
   "outputs": [],
   "source": [
    "def copy_dims(src_group, dst_group):\n",
    "    for dim_name, dim in src_group.dimensions.items():\n",
    "        if dim_name == 'time':\n",
    "            # Skip time dimension entirely to avoid duplicates\n",
    "            continue\n",
    "        if dim_name in dst_group.dimensions:\n",
    "            continue\n",
    "        if dim.isunlimited():\n",
    "            dst_group.createDimension(dim_name, None)\n",
    "        else:\n",
    "            dst_group.createDimension(dim_name, len(dim))\n",
    "\n",
    "\n",
    "def copy_vars(src_group, dst_group):\n",
    "    for var_name, var in src_group.variables.items():\n",
    "        dims = var.dimensions\n",
    "\n",
    "        # Skip time coordinate variable\n",
    "        if var_name == 'time':\n",
    "            continue\n",
    "\n",
    "        # Copy lat/lon coordinate variables as-is\n",
    "        if var_name in ['lat', 'lon']:\n",
    "            new_var = dst_group.createVariable(var_name, var.datatype, dims)\n",
    "            new_var.setncatts({k: var.getncattr(k) for k in var.ncattrs()})\n",
    "            new_var[:] = var[:]\n",
    "            continue\n",
    "\n",
    "        # For other variables that have time dimension: average over time and remove it\n",
    "        if 'time' in dims:\n",
    "            new_dims = tuple(d for d in dims if d != 'time')\n",
    "            new_var = dst_group.createVariable(var_name, var.datatype, new_dims)\n",
    "            new_var.setncatts({k: var.getncattr(k) for k in var.ncattrs()})\n",
    "\n",
    "            data = var[:]\n",
    "            time_axis = dims.index('time')\n",
    "            mean_data = data.mean(axis=time_axis)\n",
    "\n",
    "            new_var[:] = mean_data\n",
    "        else:\n",
    "            # Variables without time dimension copy as-is\n",
    "            new_var = dst_group.createVariable(var_name, var.datatype, dims)\n",
    "            new_var.setncatts({k: var.getncattr(k) for k in var.ncattrs()})\n",
    "            new_var[:] = var[:]\n",
    "\n",
    "\n",
    "def recursive_copy(src_group, dst_group):\n",
    "    dst_group.setncatts({attr: src_group.getncattr(attr) for attr in src_group.ncattrs()})\n",
    "    copy_dims(src_group, dst_group)\n",
    "    copy_vars(src_group, dst_group)\n",
    "\n",
    "    for name, subgrp in src_group.groups.items():\n",
    "        dst_subgrp = dst_group.createGroup(name)\n",
    "        recursive_copy(subgrp, dst_subgrp)\n",
    "\n",
    "\n",
    "# Recursively copy starting at the root level\n",
    "recursive_copy(src, dst)\n",
    "\n",
    "# Close files\n",
    "src.close()\n",
    "dst.close()"
   ]
  },
  {
   "cell_type": "markdown",
   "metadata": {},
   "source": [
    "Let's open our new dataset using DataTree and plot:"
   ]
  },
  {
   "cell_type": "code",
   "execution_count": null,
   "metadata": {},
   "outputs": [],
   "source": [
    "xr.open_datatree('precipitation_mean.nc4')['observed/precipitation'].plot()"
   ]
  }
 ],
 "metadata": {
  "kernelspec": {
   "display_name": "nasa-gesdisc",
   "language": "python",
   "name": "python3"
  },
  "language_info": {
   "codemirror_mode": {
    "name": "ipython",
    "version": 3
   },
   "file_extension": ".py",
   "mimetype": "text/x-python",
   "name": "python",
   "nbconvert_exporter": "python",
   "pygments_lexer": "ipython3",
   "version": "3.10.18"
  }
 },
 "nbformat": 4,
 "nbformat_minor": 2
}
